{
  "nbformat": 4,
  "nbformat_minor": 0,
  "metadata": {
    "colab": {
      "provenance": []
    },
    "kernelspec": {
      "name": "python3",
      "display_name": "Python 3"
    },
    "language_info": {
      "name": "python"
    }
  },
  "cells": [
    {
      "cell_type": "code",
      "execution_count": 1,
      "metadata": {
        "colab": {
          "base_uri": "https://localhost:8080/"
        },
        "id": "ELDgms8h1ysA",
        "outputId": "b1553cf7-32f3-49b7-b141-ac841558b293"
      },
      "outputs": [
        {
          "output_type": "stream",
          "name": "stdout",
          "text": [
            "Requirement already satisfied: sympy in /usr/local/lib/python3.10/dist-packages (1.12)\n",
            "Requirement already satisfied: mpmath>=0.19 in /usr/local/lib/python3.10/dist-packages (from sympy) (1.3.0)\n"
          ]
        }
      ],
      "source": [
        "!pip install sympy"
      ]
    },
    {
      "cell_type": "code",
      "source": [
        "from sympy import primefactors\n",
        "import math\n",
        "\n",
        "def check(n, cache):\n",
        "    if n in cache:\n",
        "        return cache[n]\n",
        "    test = primefactors(n)\n",
        "    for i in test:\n",
        "        if n %(i**2) == 0:\n",
        "            cache[n] = False\n",
        "            return False\n",
        "    cache[n] = True\n",
        "    return True\n",
        "\n",
        "L, R = map(int, input().split())\n",
        "\n",
        "# cache đóng vai trò như một dictionary (nếu có sẵn trong cache thì sẽ bỏ qua không cần check lại bằng cách chạy vòng lặp)\n",
        "cache = {}\n",
        "special_numbers = [i for i in range(L, R + 1) if check(i, cache)]\n",
        "\n",
        "count = 0\n",
        "\n",
        "for ind, i in enumerate(special_numbers):\n",
        "    for j in special_numbers[ind+1:]:\n",
        "        if (math.gcd(i, j) == 1 or (i * j) in special_numbers):\n",
        "            count += 1\n",
        "\n",
        "print(count)"
      ],
      "metadata": {
        "id": "hFA9bJCG131G"
      },
      "execution_count": null,
      "outputs": []
    }
  ]
}